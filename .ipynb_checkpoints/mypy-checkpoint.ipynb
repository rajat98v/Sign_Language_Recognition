{
 "cells": [
  {
   "cell_type": "code",
   "execution_count": 1,
   "id": "c3e7d6e1",
   "metadata": {},
   "outputs": [],
   "source": [
    "!pip install -q kaggle"
   ]
  },
  {
   "cell_type": "code",
   "execution_count": 2,
   "id": "a687090d",
   "metadata": {},
   "outputs": [
    {
     "ename": "ModuleNotFoundError",
     "evalue": "No module named 'google.colab'",
     "output_type": "error",
     "traceback": [
      "\u001b[0;31m---------------------------------------------------------------------------\u001b[0m",
      "\u001b[0;31mModuleNotFoundError\u001b[0m                       Traceback (most recent call last)",
      "\u001b[0;32m<ipython-input-2-ee201b91671e>\u001b[0m in \u001b[0;36m<module>\u001b[0;34m\u001b[0m\n\u001b[0;32m----> 1\u001b[0;31m \u001b[0;32mfrom\u001b[0m \u001b[0mgoogle\u001b[0m\u001b[0;34m.\u001b[0m\u001b[0mcolab\u001b[0m \u001b[0;32mimport\u001b[0m \u001b[0mfiles\u001b[0m\u001b[0;34m\u001b[0m\u001b[0;34m\u001b[0m\u001b[0m\n\u001b[0m",
      "\u001b[0;31mModuleNotFoundError\u001b[0m: No module named 'google.colab'"
     ]
    }
   ],
   "source": [
    "from google.colab import files"
   ]
  },
  {
   "cell_type": "code",
   "execution_count": null,
   "id": "a4247ac4",
   "metadata": {},
   "outputs": [],
   "source": [
    "files.upload()"
   ]
  },
  {
   "cell_type": "code",
   "execution_count": null,
   "id": "a86f853e",
   "metadata": {},
   "outputs": [],
   "source": [
    "! mkdir ~/.kaggle \n",
    "! cp kaggle.json ~/.kaggle/\n",
    "! chmod 600 ~/.kaggle/kaggle.json\n",
    "! kaggle datasets list  # List all the datasets available"
   ]
  },
  {
   "cell_type": "code",
   "execution_count": null,
   "id": "8f1d6de6",
   "metadata": {},
   "outputs": [],
   "source": [
    "! kaggle datasets download -d signnteam/asl-sign-language-pictures-minus-j-z\n",
    "! unzip asl-sign-language-pictures-minus-j-z.zip"
   ]
  },
  {
   "cell_type": "code",
   "execution_count": null,
   "id": "ed04d841",
   "metadata": {},
   "outputs": [],
   "source": [
    "! kaggle datasets download -d kapillondhe/american-sign-language\n",
    "! unzip american-sign-language.zip"
   ]
  },
  {
   "cell_type": "code",
   "execution_count": null,
   "id": "c7838b4f",
   "metadata": {},
   "outputs": [],
   "source": [
    "!pip install mediapipe"
   ]
  },
  {
   "cell_type": "code",
   "execution_count": 3,
   "id": "88c1ba96",
   "metadata": {},
   "outputs": [],
   "source": [
    "# For capturing hand coordinates\n",
    "import cv2\n",
    "import mediapipe as mp\n",
    "\n",
    "# For processing data\n",
    "import csv\n",
    "import os\n",
    "import numpy as np\n",
    "import pandas as pd"
   ]
  },
  {
   "cell_type": "code",
   "execution_count": 4,
   "id": "e0745554",
   "metadata": {},
   "outputs": [],
   "source": [
    "# Initialize mediapipe hand\n",
    "\n",
    "mp_drawing = mp.solutions.drawing_utils\n",
    "mp_hands = mp.solutions.hands"
   ]
  },
  {
   "cell_type": "code",
   "execution_count": 5,
   "id": "41c32bca",
   "metadata": {},
   "outputs": [
    {
     "ename": "FileNotFoundError",
     "evalue": "[Errno 2] No such file or directory: '/content/ASL_Dataset/Train'",
     "output_type": "error",
     "traceback": [
      "\u001b[0;31m---------------------------------------------------------------------------\u001b[0m",
      "\u001b[0;31mFileNotFoundError\u001b[0m                         Traceback (most recent call last)",
      "\u001b[0;32m<ipython-input-5-7701ec1540fc>\u001b[0m in \u001b[0;36m<module>\u001b[0;34m\u001b[0m\n\u001b[1;32m      9\u001b[0m     \u001b[0mdirectory\u001b[0m \u001b[0;34m=\u001b[0m \u001b[0;34m\"/content/ASL_Dataset/Train\"\u001b[0m\u001b[0;34m\u001b[0m\u001b[0;34m\u001b[0m\u001b[0m\n\u001b[1;32m     10\u001b[0m \u001b[0;34m\u001b[0m\u001b[0m\n\u001b[0;32m---> 11\u001b[0;31m     \u001b[0md\u001b[0m \u001b[0;34m=\u001b[0m \u001b[0msorted\u001b[0m\u001b[0;34m(\u001b[0m\u001b[0mos\u001b[0m\u001b[0;34m.\u001b[0m\u001b[0mlistdir\u001b[0m\u001b[0;34m(\u001b[0m\u001b[0mdirectory\u001b[0m\u001b[0;34m)\u001b[0m\u001b[0;34m)\u001b[0m\u001b[0;34m\u001b[0m\u001b[0;34m\u001b[0m\u001b[0m\n\u001b[0m\u001b[1;32m     12\u001b[0m     \u001b[0;32mfor\u001b[0m \u001b[0mdir\u001b[0m \u001b[0;32min\u001b[0m \u001b[0md\u001b[0m \u001b[0;34m:\u001b[0m\u001b[0;34m\u001b[0m\u001b[0;34m\u001b[0m\u001b[0m\n\u001b[1;32m     13\u001b[0m       \u001b[0mfiledir\u001b[0m \u001b[0;34m=\u001b[0m \u001b[0mos\u001b[0m\u001b[0;34m.\u001b[0m\u001b[0mpath\u001b[0m\u001b[0;34m.\u001b[0m\u001b[0mjoin\u001b[0m\u001b[0;34m(\u001b[0m\u001b[0mdirectory\u001b[0m\u001b[0;34m,\u001b[0m \u001b[0mdir\u001b[0m\u001b[0;34m)\u001b[0m\u001b[0;34m\u001b[0m\u001b[0;34m\u001b[0m\u001b[0m\n",
      "\u001b[0;31mFileNotFoundError\u001b[0m: [Errno 2] No such file or directory: '/content/ASL_Dataset/Train'"
     ]
    }
   ],
   "source": [
    "rows = ['class']\n",
    "for i in range(1,42):\n",
    "  rows.append(i)\n",
    "with open('hand_dataset.csv', mode='a', newline='') as f:\n",
    "                    csv_writer = csv.writer(f, delimiter=',', quotechar='\"', quoting=csv.QUOTE_MINIMAL)\n",
    "                    csv_writer.writerow(rows)\n",
    "with mp_hands.Hands( static_image_mode=True, max_num_hands=2, min_detection_confidence=0.2) as hands:\n",
    "        \n",
    "    directory = \"/content/ASL_Dataset/Train\"\n",
    "\n",
    "    d = sorted(os.listdir(directory))\n",
    "    for dir in d :\n",
    "      filedir = os.path.join(directory, dir)\n",
    "      success = 0\n",
    "      for fil in os.listdir(filedir) :\n",
    "\n",
    "        filepath = os.path.join(filedir, fil)\n",
    "        image = cv2.flip(cv2.imread(filepath), 1)\n",
    "        print(\"processing file: \", filepath)\n",
    "\n",
    "        # Convert the BGR image to RGB before processing.\n",
    "        results = hands.process(cv2.cvtColor(image, cv2.COLOR_BGR2RGB))\n",
    "        \n",
    "        try :\n",
    "            # Extract Hand landmarks\n",
    "            print(\"trying\")\n",
    "            for hand_landmark in results.multi_hand_landmarks:\n",
    "                right_hand = hand_landmark.landmark\n",
    "\n",
    "            #right_hand_row = list(np.array([[landmark.x, landmark.y, landmark.z] for landmark in right_hand]).flatten())\n",
    "            right_hand_row = list(np.array([[landmark.x, landmark.y] for landmark in right_hand]).flatten())\n",
    "\n",
    "            # Concate rows\n",
    "            row = right_hand_row\n",
    "\n",
    "            row.insert(0, filepath.split('/')[4])\n",
    "\n",
    "            # Export to CSV\n",
    "            with open('hand_dataset.csv', mode='a', newline='') as f:\n",
    "                csv_writer = csv.writer(f, delimiter=',', quotechar='\"', quoting=csv.QUOTE_MINIMAL)\n",
    "                csv_writer.writerow(row) \n",
    "                \n",
    "            success += 1\n",
    "            \n",
    "        except :\n",
    "            print(\"expect: not trying\")\n",
    "            pass\n"
   ]
  },
  {
   "cell_type": "code",
   "execution_count": null,
   "id": "f146c322",
   "metadata": {},
   "outputs": [],
   "source": [
    "df = pd.read_csv('./hand_datas.csv')\n",
    "\n",
    "rows = len(df.axes[0])\n",
    "  \n",
    "# computing number of columns\n",
    "cols = len(df.axes[1])\n",
    "  \n",
    "print(df)\n",
    "print(\"Number of Rows: \", rows)\n",
    "print(\"Number of Columns: \", cols)"
   ]
  },
  {
   "cell_type": "code",
   "execution_count": null,
   "id": "4b7db425",
   "metadata": {},
   "outputs": [],
   "source": []
  },
  {
   "cell_type": "markdown",
   "id": "584063d5",
   "metadata": {},
   "source": [
    "# Now Train Your Neural Network with CSV Data"
   ]
  },
  {
   "cell_type": "code",
   "execution_count": null,
   "id": "dcb79489",
   "metadata": {},
   "outputs": [],
   "source": []
  },
  {
   "cell_type": "code",
   "execution_count": null,
   "id": "c697ddf7",
   "metadata": {},
   "outputs": [],
   "source": []
  },
  {
   "cell_type": "code",
   "execution_count": null,
   "id": "b2ccf606",
   "metadata": {},
   "outputs": [],
   "source": []
  },
  {
   "cell_type": "code",
   "execution_count": 1,
   "id": "d61d4e3c",
   "metadata": {},
   "outputs": [
    {
     "name": "stderr",
     "output_type": "stream",
     "text": [
      "WARNING:root:Limited tf.compat.v2.summary API due to missing TensorBoard installation.\n",
      "WARNING:root:Limited tf.compat.v2.summary API due to missing TensorBoard installation.\n",
      "WARNING:root:Limited tf.compat.v2.summary API due to missing TensorBoard installation.\n",
      "WARNING:root:Limited tf.summary API due to missing TensorBoard installation.\n"
     ]
    }
   ],
   "source": [
    "import mediapipe as mp\n",
    "import cv2\n",
    "\n",
    "\n",
    "import pandas as pd\n",
    "import os\n",
    "import pandas as pd\n",
    "import numpy as np\n",
    "# from tensorflow import keras\n",
    "from tensorflow.keras.models import Sequential\n",
    "from tensorflow.keras.layers import Dense, Flatten, Conv2D\n",
    "from tensorflow.keras.utils import to_categorical, normalize\n",
    "\n",
    "from sklearn.model_selection import train_test_split\n",
    "\n",
    "np.set_printoptions(precision=3, suppress=True)\n",
    "\n",
    "import tensorflow as tf\n",
    "from tensorflow.keras import layers\n",
    "from tensorflow.keras.layers.experimental import preprocessing"
   ]
  },
  {
   "cell_type": "code",
   "execution_count": 2,
   "id": "5f4b5d01",
   "metadata": {},
   "outputs": [],
   "source": [
    "def trainsave():\n",
    "    training_data = pd.read_csv(\"../Data/hand_dataset.csv\")\n",
    "\n",
    "    features = training_data.copy()\n",
    "    string_labels = np.array(features.pop('class'))\n",
    "\n",
    "    # Get only unique labels from list of all label class names\n",
    "    unique_labels = np.unique(string_labels)\n",
    "\n",
    "    # Save Labels in file for use in prediction\n",
    "    file = open(\"arr\", \"wb\")\n",
    "    np.save(file, unique_labels)\n",
    "    file.close()\n",
    "\n",
    "    integer_mapping = {x: i for i,x in enumerate(unique_labels)}\n",
    "    vec = []\n",
    "    for values in string_labels :\n",
    "        vec.append(integer_mapping[values])\n",
    "\n",
    "    # Converts a class vector (integers) to binary class matrix # one hot encoding\n",
    "    labels = to_categorical(vec)\n",
    "\n",
    "    X_train, X_test, y_train, y_test = train_test_split(features,\n",
    "                                                        labels,\n",
    "                                                        test_size=0.33,\n",
    "                                                        random_state=42,\n",
    "                                                        shuffle=True,\n",
    "                                                        )\n",
    "\n",
    "    model = Sequential()\n",
    "    model.add(Dense(42, activation='relu'),)\n",
    "    model.add(Dense(64 ,activation='relu'))\n",
    "    model.add(Dense(64 ,activation='relu'))\n",
    "    model.add(Dense(len(unique_labels), activation='softmax'))\n",
    "\n",
    "    loss_fn = tf.keras.losses.SparseCategoricalCrossentropy(from_logits=True)\n",
    "    opt = tf.keras.optimizers.SGD(learning_rate=0.1)\n",
    "\n",
    "    model.compile(optimizer=opt, loss='categorical_crossentropy', metrics=['accuracy'])\n",
    "\n",
    "\n",
    "    #function is a convenient way of letting the model train until an optimum is found\n",
    "#     es = tf.keras.callbacks.EarlyStopping(\n",
    "#         monitor='val_loss',\n",
    "#         mode='min',\n",
    "#         verbose=1,\n",
    "#         patience=10,\n",
    "#         restore_best_weights=True)\n",
    "\n",
    "    history = model.fit(X_train, y_train,\n",
    "          # batch_size=1000,\n",
    "          epochs=120,\n",
    "          verbose=1,\n",
    "          shuffle=True,\n",
    "          validation_data=(X_test, y_test),\n",
    "#           callbacks=[es]\n",
    "                       )\n",
    "\n",
    "    # model.fit(X_train, y_train, epochs=100)\n",
    "    # model.evaluate(X_test,  y_test, verbose=2)\n",
    "\n",
    "    model.save(\"../Data/mymodel2\")\n",
    "    return history\n",
    "\n"
   ]
  },
  {
   "cell_type": "code",
   "execution_count": 4,
   "id": "16040be4",
   "metadata": {
    "collapsed": true
   },
   "outputs": [
    {
     "name": "stdout",
     "output_type": "stream",
     "text": [
      "Epoch 1/120\n",
      "170/170 [==============================] - 1s 3ms/step - loss: 3.1413 - accuracy: 0.0751 - val_loss: 3.0218 - val_accuracy: 0.0908\n",
      "Epoch 2/120\n",
      "170/170 [==============================] - 0s 2ms/step - loss: 2.9260 - accuracy: 0.1352 - val_loss: 2.7360 - val_accuracy: 0.1659\n",
      "Epoch 3/120\n",
      "170/170 [==============================] - 0s 2ms/step - loss: 2.5691 - accuracy: 0.2014 - val_loss: 2.1888 - val_accuracy: 0.3526\n",
      "Epoch 4/120\n",
      "170/170 [==============================] - 0s 2ms/step - loss: 2.2921 - accuracy: 0.2813 - val_loss: 1.8856 - val_accuracy: 0.4498\n",
      "Epoch 5/120\n",
      "170/170 [==============================] - 0s 2ms/step - loss: 1.9737 - accuracy: 0.3866 - val_loss: 1.5886 - val_accuracy: 0.4905\n",
      "Epoch 6/120\n",
      "170/170 [==============================] - 0s 2ms/step - loss: 1.7697 - accuracy: 0.4350 - val_loss: 1.7967 - val_accuracy: 0.3724\n",
      "Epoch 7/120\n",
      "170/170 [==============================] - 0s 2ms/step - loss: 1.6042 - accuracy: 0.4826 - val_loss: 1.4132 - val_accuracy: 0.5035\n",
      "Epoch 8/120\n",
      "170/170 [==============================] - 0s 2ms/step - loss: 1.4781 - accuracy: 0.5277 - val_loss: 1.2617 - val_accuracy: 0.5783\n",
      "Epoch 9/120\n",
      "170/170 [==============================] - 0s 2ms/step - loss: 1.3305 - accuracy: 0.5723 - val_loss: 1.1170 - val_accuracy: 0.6418\n",
      "Epoch 10/120\n",
      "170/170 [==============================] - 0s 2ms/step - loss: 1.1826 - accuracy: 0.6121 - val_loss: 1.1529 - val_accuracy: 0.6096\n",
      "Epoch 11/120\n",
      "170/170 [==============================] - 0s 3ms/step - loss: 1.1778 - accuracy: 0.6029 - val_loss: 0.9889 - val_accuracy: 0.6690\n",
      "Epoch 12/120\n",
      "170/170 [==============================] - 0s 2ms/step - loss: 1.0876 - accuracy: 0.6532 - val_loss: 0.8885 - val_accuracy: 0.7176\n",
      "Epoch 13/120\n",
      "170/170 [==============================] - 0s 2ms/step - loss: 1.0063 - accuracy: 0.6721 - val_loss: 3.6550 - val_accuracy: 0.2193\n",
      "Epoch 14/120\n",
      "170/170 [==============================] - 0s 2ms/step - loss: 1.1331 - accuracy: 0.6494 - val_loss: 1.5203 - val_accuracy: 0.5263\n",
      "Epoch 15/120\n",
      "170/170 [==============================] - 0s 2ms/step - loss: 0.9763 - accuracy: 0.6797 - val_loss: 0.7853 - val_accuracy: 0.7568\n",
      "Epoch 16/120\n",
      "170/170 [==============================] - 0s 2ms/step - loss: 0.9362 - accuracy: 0.7072 - val_loss: 0.7150 - val_accuracy: 0.7740\n",
      "Epoch 17/120\n",
      "170/170 [==============================] - 0s 2ms/step - loss: 0.9169 - accuracy: 0.7005 - val_loss: 0.7483 - val_accuracy: 0.7792\n",
      "Epoch 18/120\n",
      "170/170 [==============================] - 0s 2ms/step - loss: 0.8750 - accuracy: 0.7141 - val_loss: 0.7217 - val_accuracy: 0.7706\n",
      "Epoch 19/120\n",
      "170/170 [==============================] - 0s 2ms/step - loss: 0.8234 - accuracy: 0.7313 - val_loss: 0.6761 - val_accuracy: 0.8024\n",
      "Epoch 20/120\n",
      "170/170 [==============================] - 0s 2ms/step - loss: 0.8636 - accuracy: 0.7237 - val_loss: 0.7398 - val_accuracy: 0.7598\n",
      "Epoch 21/120\n",
      "170/170 [==============================] - 0s 3ms/step - loss: 0.8352 - accuracy: 0.7300 - val_loss: 0.7436 - val_accuracy: 0.7508\n",
      "Epoch 22/120\n",
      "170/170 [==============================] - 0s 2ms/step - loss: 0.7144 - accuracy: 0.7655 - val_loss: 0.9291 - val_accuracy: 0.7056\n",
      "Epoch 23/120\n",
      "170/170 [==============================] - 0s 2ms/step - loss: 0.7514 - accuracy: 0.7604 - val_loss: 0.6119 - val_accuracy: 0.7979\n",
      "Epoch 24/120\n",
      "170/170 [==============================] - 0s 2ms/step - loss: 0.8126 - accuracy: 0.7399 - val_loss: 1.1872 - val_accuracy: 0.6152\n",
      "Epoch 25/120\n",
      "170/170 [==============================] - 0s 2ms/step - loss: 0.7241 - accuracy: 0.7610 - val_loss: 0.6661 - val_accuracy: 0.7908\n",
      "Epoch 26/120\n",
      "170/170 [==============================] - 0s 2ms/step - loss: 0.6653 - accuracy: 0.7845 - val_loss: 0.7770 - val_accuracy: 0.7493\n",
      "Epoch 27/120\n",
      "170/170 [==============================] - 0s 2ms/step - loss: 0.6781 - accuracy: 0.7767 - val_loss: 1.2850 - val_accuracy: 0.6365\n",
      "Epoch 28/120\n",
      "170/170 [==============================] - 0s 2ms/step - loss: 0.7256 - accuracy: 0.7702 - val_loss: 0.7185 - val_accuracy: 0.7613\n",
      "Epoch 29/120\n",
      "170/170 [==============================] - 0s 2ms/step - loss: 0.6843 - accuracy: 0.7873 - val_loss: 0.5515 - val_accuracy: 0.8304\n",
      "Epoch 30/120\n",
      "170/170 [==============================] - 0s 2ms/step - loss: 0.6713 - accuracy: 0.7794 - val_loss: 0.5487 - val_accuracy: 0.8293\n",
      "Epoch 31/120\n",
      "170/170 [==============================] - 0s 2ms/step - loss: 0.6711 - accuracy: 0.7786 - val_loss: 0.6687 - val_accuracy: 0.7975\n",
      "Epoch 32/120\n",
      "170/170 [==============================] - 0s 2ms/step - loss: 0.5980 - accuracy: 0.8091 - val_loss: 0.5792 - val_accuracy: 0.8102\n",
      "Epoch 33/120\n",
      "170/170 [==============================] - 0s 2ms/step - loss: 0.6020 - accuracy: 0.8138 - val_loss: 0.4951 - val_accuracy: 0.8532\n",
      "Epoch 34/120\n",
      "170/170 [==============================] - 0s 2ms/step - loss: 0.5757 - accuracy: 0.8171 - val_loss: 0.6804 - val_accuracy: 0.7886\n",
      "Epoch 35/120\n",
      "170/170 [==============================] - 0s 2ms/step - loss: 0.5723 - accuracy: 0.8216 - val_loss: 0.5786 - val_accuracy: 0.8211\n",
      "Epoch 36/120\n",
      "170/170 [==============================] - 0s 2ms/step - loss: 0.6586 - accuracy: 0.7960 - val_loss: 0.5293 - val_accuracy: 0.8263\n",
      "Epoch 37/120\n",
      "170/170 [==============================] - 0s 2ms/step - loss: 0.5915 - accuracy: 0.8174 - val_loss: 0.4743 - val_accuracy: 0.8547\n",
      "Epoch 38/120\n",
      "170/170 [==============================] - 0s 2ms/step - loss: 0.6092 - accuracy: 0.8091 - val_loss: 0.6112 - val_accuracy: 0.7886\n",
      "Epoch 39/120\n",
      " 83/170 [=============>................] - ETA: 0s - loss: 0.4878 - accuracy: 0.8421"
     ]
    },
    {
     "ename": "KeyboardInterrupt",
     "evalue": "",
     "output_type": "error",
     "traceback": [
      "\u001b[0;31m---------------------------------------------------------------------------\u001b[0m",
      "\u001b[0;31mKeyboardInterrupt\u001b[0m                         Traceback (most recent call last)",
      "\u001b[0;32m<ipython-input-4-0abf153cbcc7>\u001b[0m in \u001b[0;36m<module>\u001b[0;34m\u001b[0m\n\u001b[0;32m----> 1\u001b[0;31m \u001b[0mhistory\u001b[0m \u001b[0;34m=\u001b[0m \u001b[0mtrainsave\u001b[0m\u001b[0;34m(\u001b[0m\u001b[0;34m)\u001b[0m\u001b[0;34m\u001b[0m\u001b[0;34m\u001b[0m\u001b[0m\n\u001b[0m",
      "\u001b[0;32m<ipython-input-2-f9bae1952025>\u001b[0m in \u001b[0;36mtrainsave\u001b[0;34m()\u001b[0m\n\u001b[1;32m     48\u001b[0m \u001b[0;31m#         restore_best_weights=True)\u001b[0m\u001b[0;34m\u001b[0m\u001b[0;34m\u001b[0m\u001b[0;34m\u001b[0m\u001b[0m\n\u001b[1;32m     49\u001b[0m \u001b[0;34m\u001b[0m\u001b[0m\n\u001b[0;32m---> 50\u001b[0;31m     history = model.fit(X_train, y_train,\n\u001b[0m\u001b[1;32m     51\u001b[0m           \u001b[0;31m# batch_size=1000,\u001b[0m\u001b[0;34m\u001b[0m\u001b[0;34m\u001b[0m\u001b[0;34m\u001b[0m\u001b[0m\n\u001b[1;32m     52\u001b[0m           \u001b[0mepochs\u001b[0m\u001b[0;34m=\u001b[0m\u001b[0;36m120\u001b[0m\u001b[0;34m,\u001b[0m\u001b[0;34m\u001b[0m\u001b[0;34m\u001b[0m\u001b[0m\n",
      "\u001b[0;32m~/.local/lib/python3.9/site-packages/tensorflow/python/keras/engine/training.py\u001b[0m in \u001b[0;36mfit\u001b[0;34m(self, x, y, batch_size, epochs, verbose, callbacks, validation_split, validation_data, shuffle, class_weight, sample_weight, initial_epoch, steps_per_epoch, validation_steps, validation_batch_size, validation_freq, max_queue_size, workers, use_multiprocessing)\u001b[0m\n\u001b[1;32m   1098\u001b[0m                 _r=1):\n\u001b[1;32m   1099\u001b[0m               \u001b[0mcallbacks\u001b[0m\u001b[0;34m.\u001b[0m\u001b[0mon_train_batch_begin\u001b[0m\u001b[0;34m(\u001b[0m\u001b[0mstep\u001b[0m\u001b[0;34m)\u001b[0m\u001b[0;34m\u001b[0m\u001b[0;34m\u001b[0m\u001b[0m\n\u001b[0;32m-> 1100\u001b[0;31m               \u001b[0mtmp_logs\u001b[0m \u001b[0;34m=\u001b[0m \u001b[0mself\u001b[0m\u001b[0;34m.\u001b[0m\u001b[0mtrain_function\u001b[0m\u001b[0;34m(\u001b[0m\u001b[0miterator\u001b[0m\u001b[0;34m)\u001b[0m\u001b[0;34m\u001b[0m\u001b[0;34m\u001b[0m\u001b[0m\n\u001b[0m\u001b[1;32m   1101\u001b[0m               \u001b[0;32mif\u001b[0m \u001b[0mdata_handler\u001b[0m\u001b[0;34m.\u001b[0m\u001b[0mshould_sync\u001b[0m\u001b[0;34m:\u001b[0m\u001b[0;34m\u001b[0m\u001b[0;34m\u001b[0m\u001b[0m\n\u001b[1;32m   1102\u001b[0m                 \u001b[0mcontext\u001b[0m\u001b[0;34m.\u001b[0m\u001b[0masync_wait\u001b[0m\u001b[0;34m(\u001b[0m\u001b[0;34m)\u001b[0m\u001b[0;34m\u001b[0m\u001b[0;34m\u001b[0m\u001b[0m\n",
      "\u001b[0;32m~/.local/lib/python3.9/site-packages/tensorflow/python/eager/def_function.py\u001b[0m in \u001b[0;36m__call__\u001b[0;34m(self, *args, **kwds)\u001b[0m\n\u001b[1;32m    826\u001b[0m     \u001b[0mtracing_count\u001b[0m \u001b[0;34m=\u001b[0m \u001b[0mself\u001b[0m\u001b[0;34m.\u001b[0m\u001b[0mexperimental_get_tracing_count\u001b[0m\u001b[0;34m(\u001b[0m\u001b[0;34m)\u001b[0m\u001b[0;34m\u001b[0m\u001b[0;34m\u001b[0m\u001b[0m\n\u001b[1;32m    827\u001b[0m     \u001b[0;32mwith\u001b[0m \u001b[0mtrace\u001b[0m\u001b[0;34m.\u001b[0m\u001b[0mTrace\u001b[0m\u001b[0;34m(\u001b[0m\u001b[0mself\u001b[0m\u001b[0;34m.\u001b[0m\u001b[0m_name\u001b[0m\u001b[0;34m)\u001b[0m \u001b[0;32mas\u001b[0m \u001b[0mtm\u001b[0m\u001b[0;34m:\u001b[0m\u001b[0;34m\u001b[0m\u001b[0;34m\u001b[0m\u001b[0m\n\u001b[0;32m--> 828\u001b[0;31m       \u001b[0mresult\u001b[0m \u001b[0;34m=\u001b[0m \u001b[0mself\u001b[0m\u001b[0;34m.\u001b[0m\u001b[0m_call\u001b[0m\u001b[0;34m(\u001b[0m\u001b[0;34m*\u001b[0m\u001b[0margs\u001b[0m\u001b[0;34m,\u001b[0m \u001b[0;34m**\u001b[0m\u001b[0mkwds\u001b[0m\u001b[0;34m)\u001b[0m\u001b[0;34m\u001b[0m\u001b[0;34m\u001b[0m\u001b[0m\n\u001b[0m\u001b[1;32m    829\u001b[0m       \u001b[0mcompiler\u001b[0m \u001b[0;34m=\u001b[0m \u001b[0;34m\"xla\"\u001b[0m \u001b[0;32mif\u001b[0m \u001b[0mself\u001b[0m\u001b[0;34m.\u001b[0m\u001b[0m_experimental_compile\u001b[0m \u001b[0;32melse\u001b[0m \u001b[0;34m\"nonXla\"\u001b[0m\u001b[0;34m\u001b[0m\u001b[0;34m\u001b[0m\u001b[0m\n\u001b[1;32m    830\u001b[0m       \u001b[0mnew_tracing_count\u001b[0m \u001b[0;34m=\u001b[0m \u001b[0mself\u001b[0m\u001b[0;34m.\u001b[0m\u001b[0mexperimental_get_tracing_count\u001b[0m\u001b[0;34m(\u001b[0m\u001b[0;34m)\u001b[0m\u001b[0;34m\u001b[0m\u001b[0;34m\u001b[0m\u001b[0m\n",
      "\u001b[0;32m~/.local/lib/python3.9/site-packages/tensorflow/python/eager/def_function.py\u001b[0m in \u001b[0;36m_call\u001b[0;34m(self, *args, **kwds)\u001b[0m\n\u001b[1;32m    853\u001b[0m       \u001b[0;31m# In this case we have created variables on the first call, so we run the\u001b[0m\u001b[0;34m\u001b[0m\u001b[0;34m\u001b[0m\u001b[0;34m\u001b[0m\u001b[0m\n\u001b[1;32m    854\u001b[0m       \u001b[0;31m# defunned version which is guaranteed to never create variables.\u001b[0m\u001b[0;34m\u001b[0m\u001b[0;34m\u001b[0m\u001b[0;34m\u001b[0m\u001b[0m\n\u001b[0;32m--> 855\u001b[0;31m       \u001b[0;32mreturn\u001b[0m \u001b[0mself\u001b[0m\u001b[0;34m.\u001b[0m\u001b[0m_stateless_fn\u001b[0m\u001b[0;34m(\u001b[0m\u001b[0;34m*\u001b[0m\u001b[0margs\u001b[0m\u001b[0;34m,\u001b[0m \u001b[0;34m**\u001b[0m\u001b[0mkwds\u001b[0m\u001b[0;34m)\u001b[0m  \u001b[0;31m# pylint: disable=not-callable\u001b[0m\u001b[0;34m\u001b[0m\u001b[0;34m\u001b[0m\u001b[0m\n\u001b[0m\u001b[1;32m    856\u001b[0m     \u001b[0;32melif\u001b[0m \u001b[0mself\u001b[0m\u001b[0;34m.\u001b[0m\u001b[0m_stateful_fn\u001b[0m \u001b[0;32mis\u001b[0m \u001b[0;32mnot\u001b[0m \u001b[0;32mNone\u001b[0m\u001b[0;34m:\u001b[0m\u001b[0;34m\u001b[0m\u001b[0;34m\u001b[0m\u001b[0m\n\u001b[1;32m    857\u001b[0m       \u001b[0;31m# Release the lock early so that multiple threads can perform the call\u001b[0m\u001b[0;34m\u001b[0m\u001b[0;34m\u001b[0m\u001b[0;34m\u001b[0m\u001b[0m\n",
      "\u001b[0;32m~/.local/lib/python3.9/site-packages/tensorflow/python/eager/function.py\u001b[0m in \u001b[0;36m__call__\u001b[0;34m(self, *args, **kwargs)\u001b[0m\n\u001b[1;32m   2940\u001b[0m       (graph_function,\n\u001b[1;32m   2941\u001b[0m        filtered_flat_args) = self._maybe_define_function(args, kwargs)\n\u001b[0;32m-> 2942\u001b[0;31m     return graph_function._call_flat(\n\u001b[0m\u001b[1;32m   2943\u001b[0m         filtered_flat_args, captured_inputs=graph_function.captured_inputs)  # pylint: disable=protected-access\n\u001b[1;32m   2944\u001b[0m \u001b[0;34m\u001b[0m\u001b[0m\n",
      "\u001b[0;32m~/.local/lib/python3.9/site-packages/tensorflow/python/eager/function.py\u001b[0m in \u001b[0;36m_call_flat\u001b[0;34m(self, args, captured_inputs, cancellation_manager)\u001b[0m\n\u001b[1;32m   1916\u001b[0m         and executing_eagerly):\n\u001b[1;32m   1917\u001b[0m       \u001b[0;31m# No tape is watching; skip to running the function.\u001b[0m\u001b[0;34m\u001b[0m\u001b[0;34m\u001b[0m\u001b[0;34m\u001b[0m\u001b[0m\n\u001b[0;32m-> 1918\u001b[0;31m       return self._build_call_outputs(self._inference_function.call(\n\u001b[0m\u001b[1;32m   1919\u001b[0m           ctx, args, cancellation_manager=cancellation_manager))\n\u001b[1;32m   1920\u001b[0m     forward_backward = self._select_forward_and_backward_functions(\n",
      "\u001b[0;32m~/.local/lib/python3.9/site-packages/tensorflow/python/eager/function.py\u001b[0m in \u001b[0;36mcall\u001b[0;34m(self, ctx, args, cancellation_manager)\u001b[0m\n\u001b[1;32m    553\u001b[0m       \u001b[0;32mwith\u001b[0m \u001b[0m_InterpolateFunctionError\u001b[0m\u001b[0;34m(\u001b[0m\u001b[0mself\u001b[0m\u001b[0;34m)\u001b[0m\u001b[0;34m:\u001b[0m\u001b[0;34m\u001b[0m\u001b[0;34m\u001b[0m\u001b[0m\n\u001b[1;32m    554\u001b[0m         \u001b[0;32mif\u001b[0m \u001b[0mcancellation_manager\u001b[0m \u001b[0;32mis\u001b[0m \u001b[0;32mNone\u001b[0m\u001b[0;34m:\u001b[0m\u001b[0;34m\u001b[0m\u001b[0;34m\u001b[0m\u001b[0m\n\u001b[0;32m--> 555\u001b[0;31m           outputs = execute.execute(\n\u001b[0m\u001b[1;32m    556\u001b[0m               \u001b[0mstr\u001b[0m\u001b[0;34m(\u001b[0m\u001b[0mself\u001b[0m\u001b[0;34m.\u001b[0m\u001b[0msignature\u001b[0m\u001b[0;34m.\u001b[0m\u001b[0mname\u001b[0m\u001b[0;34m)\u001b[0m\u001b[0;34m,\u001b[0m\u001b[0;34m\u001b[0m\u001b[0;34m\u001b[0m\u001b[0m\n\u001b[1;32m    557\u001b[0m               \u001b[0mnum_outputs\u001b[0m\u001b[0;34m=\u001b[0m\u001b[0mself\u001b[0m\u001b[0;34m.\u001b[0m\u001b[0m_num_outputs\u001b[0m\u001b[0;34m,\u001b[0m\u001b[0;34m\u001b[0m\u001b[0;34m\u001b[0m\u001b[0m\n",
      "\u001b[0;32m~/.local/lib/python3.9/site-packages/tensorflow/python/eager/execute.py\u001b[0m in \u001b[0;36mquick_execute\u001b[0;34m(op_name, num_outputs, inputs, attrs, ctx, name)\u001b[0m\n\u001b[1;32m     57\u001b[0m   \u001b[0;32mtry\u001b[0m\u001b[0;34m:\u001b[0m\u001b[0;34m\u001b[0m\u001b[0;34m\u001b[0m\u001b[0m\n\u001b[1;32m     58\u001b[0m     \u001b[0mctx\u001b[0m\u001b[0;34m.\u001b[0m\u001b[0mensure_initialized\u001b[0m\u001b[0;34m(\u001b[0m\u001b[0;34m)\u001b[0m\u001b[0;34m\u001b[0m\u001b[0;34m\u001b[0m\u001b[0m\n\u001b[0;32m---> 59\u001b[0;31m     tensors = pywrap_tfe.TFE_Py_Execute(ctx._handle, device_name, op_name,\n\u001b[0m\u001b[1;32m     60\u001b[0m                                         inputs, attrs, num_outputs)\n\u001b[1;32m     61\u001b[0m   \u001b[0;32mexcept\u001b[0m \u001b[0mcore\u001b[0m\u001b[0;34m.\u001b[0m\u001b[0m_NotOkStatusException\u001b[0m \u001b[0;32mas\u001b[0m \u001b[0me\u001b[0m\u001b[0;34m:\u001b[0m\u001b[0;34m\u001b[0m\u001b[0;34m\u001b[0m\u001b[0m\n",
      "\u001b[0;31mKeyboardInterrupt\u001b[0m: "
     ]
    }
   ],
   "source": [
    "history = trainsave()"
   ]
  },
  {
   "cell_type": "code",
   "execution_count": 5,
   "id": "5e8a3000",
   "metadata": {},
   "outputs": [
    {
     "name": "stdout",
     "output_type": "stream",
     "text": [
      "dict_keys(['loss', 'accuracy', 'val_loss', 'val_accuracy'])\n"
     ]
    },
    {
     "data": {
      "image/png": "[encoded data removed]",
      "text/plain": [
       "<Figure size 432x288 with 1 Axes>"
      ]
     },
     "metadata": {
      "needs_background": "light"
     },
     "output_type": "display_data"
    },
    {
     "data": {
      "image/png": "[encoded data removed]",
      "text/plain": [
       "<Figure size 432x288 with 1 Axes>"
      ]
     },
     "metadata": {
      "needs_background": "light"
     },
     "output_type": "display_data"
    }
   ],
   "source": [
    "import matplotlib.pyplot as plt\n",
    "\n",
    "# list all data in history\n",
    "print(history.history.keys())\n",
    "# summarize history for accuracy\n",
    "plt.plot(history.history['accuracy'])\n",
    "plt.plot(history.history['val_accuracy'])\n",
    "plt.title('model accuracy')\n",
    "plt.ylabel('accuracy')\n",
    "plt.xlabel('epoch')\n",
    "plt.legend(['train', 'test'], loc='upper left')\n",
    "plt.show()\n",
    "# summarize history for loss\n",
    "plt.plot(history.history['loss'])\n",
    "plt.plot(history.history['val_loss'])\n",
    "plt.title('model loss')\n",
    "plt.ylabel('loss')\n",
    "plt.xlabel('epoch')\n",
    "plt.legend(['train', 'test'], loc='upper left')\n",
    "plt.show()"
   ]
  },
  {
   "cell_type": "code",
   "execution_count": 6,
   "id": "6495b814",
   "metadata": {},
   "outputs": [],
   "source": [
    "def ResizeWithAspectRatio(image, width=None, height=None, inter=cv2.INTER_AREA):\n",
    "    dim = None\n",
    "    (h, w) = image.shape[:2]\n",
    "\n",
    "    if width is None and height is None:\n",
    "        return image\n",
    "    if width is None:\n",
    "        r = height / float(h)\n",
    "        dim = (int(w * r), height)\n",
    "    else:\n",
    "        r = width / float(w)\n",
    "        dim = (width, int(h * r))\n",
    "\n",
    "    return cv2.resize(image, dim, interpolation=inter)"
   ]
  },
  {
   "cell_type": "code",
   "execution_count": 10,
   "id": "c3737e4b",
   "metadata": {},
   "outputs": [
    {
     "name": "stdout",
     "output_type": "stream",
     "text": [
      "\u001b[2J\n",
      " A\n",
      "\u001b[2J\n",
      " AC\n",
      "\u001b[2J\n",
      " AC \n"
     ]
    }
   ],
   "source": [
    "import datetime\n",
    "\n",
    "model = tf.keras.models.load_model(\"../Data/mymodel2\")\n",
    "\n",
    "#read the file to numpy array\n",
    "file = open(\"arr\", \"rb\")\n",
    "class_list = np.load(file, allow_pickle=True)\n",
    "\n",
    "cap = cv2.VideoCapture(0)\n",
    "# cap = cv2.VideoCapture('rtsp://25.174.108.223:8080/h264_ulaw.sdp')\n",
    "# capture = cv2.VideoCapture('rtsp://25.174.108.223:8080/1')\n",
    "\n",
    "image = cv2.imread(\"../Data/MY.png\")\n",
    "img = ResizeWithAspectRatio(image, width=700) \n",
    "winname = \"Sign Language\"\n",
    "cv2.namedWindow(winname)        # Create a named window\n",
    "cv2.moveWindow(winname, 1200,0)  # Move it to (40,30)\n",
    "cv2.imshow(winname, img)\n",
    "# cv2.imshow('image', cv2.imread('asl.jpg'))\n",
    "\n",
    "mp_hands = mp.solutions.hands\n",
    "mp_drawing = mp.solutions.drawing_utils\n",
    "drawing_styles = mp.solutions.drawing_styles\n",
    "\n",
    "timestart = datetime.datetime.now()\n",
    "word = \" \"\n",
    "\n",
    "with mp_hands.Hands(\n",
    "    max_num_hands = 1,\n",
    "    min_detection_confidence=0.5,\n",
    "    min_tracking_confidence=0.5) as hands:\n",
    "    while cap.isOpened():\n",
    "        success, image = cap.read()\n",
    "        \n",
    "       \n",
    "        \n",
    "        if not success:\n",
    "            print(\"Ignoring empty camera frame.\")\n",
    "            # If loading a video, use 'break' instead of 'continue'.\n",
    "            continue\n",
    "\n",
    "        # Flip the image horizontally for a later selfie-view display, and convert\n",
    "        # the BGR image to RGB.\n",
    "        image = cv2.cvtColor(cv2.flip(image, 1), cv2.COLOR_BGR2RGB)\n",
    "\n",
    "        # To improve performance, optionally mark the image as not writeable to\n",
    "        # pass by reference.\n",
    "        image.flags.writeable = False\n",
    "        results = hands.process(image)\n",
    "\n",
    "        # Draw the hand annotations on the image.\n",
    "        image.flags.writeable = True\n",
    "        image = cv2.cvtColor(image, cv2.COLOR_RGB2BGR)\n",
    "        cv2.putText(image, word\n",
    "                        , (100, 450), cv2.FONT_HERSHEY_SIMPLEX, 1, (0, 0, 255), 2, cv2.LINE_AA)\n",
    "        if results.multi_hand_landmarks:\n",
    "            for hand_landmarks in results.multi_hand_landmarks:\n",
    "                coords = hand_landmarks.landmark\n",
    "                mp_drawing.draw_landmarks(image, hand_landmarks, mp_hands.HAND_CONNECTIONS)\n",
    "                coords = list(np.array([[landmark.x, landmark.y] for landmark in coords]).flatten())\n",
    "                # coords = scaler.transform([coords])\n",
    "                \n",
    "                # Alternative for dataset using z coordinates.\n",
    "                # Z coordinates is not recommended, since you need to adjust your distance from camera.\n",
    "#                 coords = list(np.array([[landmark.x, landmark.y, landmark.z] for landmark in coords]).flatten())\n",
    "                rgb_tensor = tf.convert_to_tensor(coords, dtype=tf.float32)\n",
    "\n",
    "                ##Add dims to rgb_tensor\n",
    "                rgb_tensor = tf.expand_dims(rgb_tensor , 0)\n",
    "                predict = model.predict(rgb_tensor, steps=1)\n",
    "                predicted = class_list[np.argmax(predict[0])]\n",
    "                \n",
    "                # predicted = model.predict(coords)\n",
    "\n",
    "            # Get status box\n",
    "            cv2.rectangle(image, (0,0), (100, 60), (245, 90, 16), -1)\n",
    "\n",
    "            # Display Class\n",
    "            cv2.putText(image, 'CLASS'\n",
    "                        , (20,15), cv2.FONT_HERSHEY_SIMPLEX, 0.5, (255, 255, 255), 1, cv2.LINE_AA)\n",
    "            cv2.putText(image, str(predicted[0])\n",
    "                        , (20,45), cv2.FONT_HERSHEY_SIMPLEX, 1, (255, 255, 255), 2, cv2.LINE_AA)\n",
    "            \n",
    "            \n",
    "            \n",
    "            diff =  datetime.datetime.now() - timestart\n",
    "            if word[len(word)-1] == str(predicted[0]):\n",
    "                timestart = datetime.datetime.now()     \n",
    "            else:\n",
    "                if diff.total_seconds()*1000 > 1000:\n",
    "                    timestart = datetime.datetime.now()\n",
    "                    word = word + str(predicted[0])\n",
    "                    print(word)\n",
    "        else: \n",
    "            diff =  datetime.datetime.now() - timestart\n",
    "            if word[len(word)-1] == \" \":\n",
    "                timestart = datetime.datetime.now()     \n",
    "            else:\n",
    "                if diff.total_seconds()*1000 > 1000:\n",
    "                    timestart = datetime.datetime.now()\n",
    "                    word = word + \" \"\n",
    "                    print(word)\n",
    "            \n",
    "\n",
    "\n",
    "                    \n",
    "\n",
    "        cv2.imshow('MediaPipe Hands', image)\n",
    "\n",
    "        # Press esc to close webcam\n",
    "        if cv2.waitKey(1) & 0xFF == 27:\n",
    "            break\n",
    "cap.release()\n",
    "cv2.destroyAllWindows()\n",
    "\n"
   ]
  },
  {
   "cell_type": "code",
   "execution_count": 11,
   "id": "05565d7e",
   "metadata": {},
   "outputs": [
    {
     "name": "stdout",
     "output_type": "stream",
     "text": [
      "/home/rajatv/STORAGE/E/MachineL/tensorflow22/Sign_Language_Recognition\r\n"
     ]
    }
   ],
   "source": [
    "!pwd"
   ]
  },
  {
   "cell_type": "code",
   "execution_count": null,
   "id": "38737f5a",
   "metadata": {},
   "outputs": [],
   "source": []
  },
  {
   "cell_type": "code",
   "execution_count": null,
   "id": "b76bc435",
   "metadata": {},
   "outputs": [],
   "source": []
  }
 ],
 "metadata": {
  "kernelspec": {
   "display_name": "Python 3",
   "language": "python",
   "name": "python3"
  },
  "language_info": {
   "codemirror_mode": {
    "name": "ipython",
    "version": 3
   },
   "file_extension": ".py",
   "mimetype": "text/x-python",
   "name": "python",
   "nbconvert_exporter": "python",
   "pygments_lexer": "ipython3",
   "version": "3.9.6"
  }
 },
 "nbformat": 4,
 "nbformat_minor": 5
}
